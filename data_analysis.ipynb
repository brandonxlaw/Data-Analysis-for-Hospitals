{
 "cells": [
  {
   "cell_type": "code",
   "execution_count": 24,
   "id": "2d91f97f-1f69-43cc-9051-2a41147e1633",
   "metadata": {},
   "outputs": [],
   "source": [
    "import pandas as pd\n",
    "import numpy as np\n",
    "import matplotlib.pyplot as plt\n",
    "import seaborn as sns"
   ]
  },
  {
   "cell_type": "markdown",
   "id": "af7c4eb9-81b2-45e0-95d3-f7b8b0733877",
   "metadata": {},
   "source": [
    "Part 1: Import Data"
   ]
  },
  {
   "cell_type": "code",
   "execution_count": 2,
   "id": "70315a43-78fe-4ff5-9f7c-069413e25beb",
   "metadata": {},
   "outputs": [],
   "source": [
    "# Read CSV files from all 3 hospitals\n",
    "g = pd.read_csv('test/general.csv')\n",
    "p = pd.read_csv('test/prenatal.csv')\n",
    "s = pd.read_csv('test/sports.csv')\n",
    "\n",
    "# Sets the number of columns to display in terminal\n",
    "pd.set_option('display.max_columns', 8)\n",
    "\n",
    "# Create dataframe objects for each hospital\n",
    "general = pd.DataFrame(g)\n",
    "prenatal = pd.DataFrame(p)\n",
    "sports = pd.DataFrame(s)\n",
    "\n",
    "# Change all the column names to match general\n",
    "columns = ['Unnamed: 0', 'hospital', 'gender', 'age', 'height', 'weight', 'bmi', 'diagnosis', 'blood_test', 'ecg',\n",
    "           'ultrasound', 'mri', 'xray', 'children', 'months']\n",
    "cols_nan = ['bmi', 'diagnosis', 'blood_test', 'ecg', 'ultrasound', 'mri', 'xray', 'children', 'months']\n",
    "\n",
    "# Assign new column names to prenatal and sports dataset\n",
    "prenatal.columns = columns\n",
    "sports.columns = columns"
   ]
  },
  {
   "cell_type": "markdown",
   "id": "6e9c1fa9-2246-4121-aa3b-5d0ca52fe85d",
   "metadata": {},
   "source": [
    "Part 2: Merge Together"
   ]
  },
  {
   "cell_type": "code",
   "execution_count": 3,
   "id": "bb49dfb9-d49e-40a2-aec8-d311f0a6c97d",
   "metadata": {},
   "outputs": [],
   "source": [
    "# Combine all 3 datasets together\n",
    "df = pd.concat([general, prenatal, sports], ignore_index=True)"
   ]
  },
  {
   "cell_type": "markdown",
   "id": "5d870d32-5eee-4fca-bcae-85fa4334bf12",
   "metadata": {},
   "source": [
    "Part 3: Clean Data"
   ]
  },
  {
   "cell_type": "code",
   "execution_count": 4,
   "id": "04049b12-6b19-43a5-bb6d-9cc26615d336",
   "metadata": {},
   "outputs": [],
   "source": [
    "# Delete the first column\n",
    "df.drop(columns=['Unnamed: 0'], inplace=True)\n",
    "df.dropna(how='all', inplace=True)\n",
    "\n",
    "# Change gender column to be 'm' or 'f'\n",
    "replace_value = {'female': 'f', 'woman': 'f', 'male': 'm', 'man': 'm'}\n",
    "df.replace({'gender': replace_value}, inplace=True)\n",
    "\n",
    "# Prenatal, if NaN than change to 0\n",
    "df.loc[df.hospital == 'prenatal', 'gender'] = 'f'\n",
    "\n",
    "# Replace NaN with zeros in selected columns\n",
    "df[cols_nan] = df[cols_nan].fillna(value=0)"
   ]
  },
  {
   "cell_type": "markdown",
   "id": "eddc6f92-90ec-47fb-adeb-6b5458a67dfc",
   "metadata": {},
   "source": [
    "Part 4: Analyze Data"
   ]
  },
  {
   "cell_type": "code",
   "execution_count": 5,
   "id": "250d4076-77c4-4ff6-b515-39e9e81c583e",
   "metadata": {},
   "outputs": [],
   "source": [
    "# 1. Which hospital has the highest number of patients?\n",
    "num_hospitals = df['hospital'].unique()\n",
    "num_patients = {}\n",
    "\n",
    "for i in num_hospitals:\n",
    "    \"\"\"\n",
    "    Loops through each hospital, and assigns the hospital name and patient count to dictionary.\n",
    "    \"\"\"\n",
    "    num_patients[i] = (df.hospital == i).sum()\n",
    "\n",
    "# Finds the hospital with the highest number of patients\n",
    "highest_num = max(num_patients, key=num_patients.get)\n",
    "\n",
    "# 2. What share of the patients in the general hospital suffers from stomach-related issues?\n",
    "# Round the result to the third decimal place.\n",
    "num_stomach = df[(df[\"hospital\"] == \"general\") & (df[\"diagnosis\"] == 'stomach')]\n",
    "stomach_ratio = round((len(num_stomach.index) / num_patients[highest_num]), 3)\n",
    "\n",
    "# 3. What share of the patients in the sports hospital suffers from dislocation-related issues?\n",
    "# Round the result to the third decimal place.\n",
    "num_dislocation = df[(df[\"hospital\"] == \"sports\") & (df[\"diagnosis\"] == 'dislocation')]\n",
    "dislocation_ratio = round((len(num_dislocation.index) / num_patients['sports']), 3)\n",
    "\n",
    "# What is the difference in the median ages of the patients in the general and sports hospitals?\n",
    "# Filter dataframe by specific rows\n",
    "general_data = df[df['hospital'] == 'general']\n",
    "sports_data = df[df['hospital'] == 'sports']\n",
    "\n",
    "# Calculate the median from each hospital\n",
    "general_median = general_data['age'].median()\n",
    "sports_median = sports_data['age'].median()\n",
    "age_median = abs(general_median - sports_median)\n",
    "\n",
    "# Which hospital took the most blood test? Total counts against all t values.\n",
    "# How many blood tests were taken?\n",
    "\n",
    "\"\"\"\n",
    "1. Count the total number of 't' values in the blood_test column\n",
    "2. Calculate how many 't' values from each hospital.\n",
    "3. Determine how many tests from each hospital was taken\n",
    "\"\"\"\n",
    "total_tests = df[df['blood_test'] == 't']['hospital'].count()\n",
    "blood_test_set = df[[\"hospital\", \"blood_test\"]]\n",
    "only_test_taken = blood_test_set[blood_test_set[\"blood_test\"] == 't']\n",
    "\n",
    "hospital_tests = {}\n",
    "\n",
    "# Creates a subset of the dataframe by hospital\n",
    "for i in num_hospitals:\n",
    "    a = only_test_taken[only_test_taken[\"hospital\"] == i]\n",
    "    hospital_tests[i] = len(a)\n",
    "\n",
    "most_test_hospital = max(hospital_tests, key=hospital_tests.get)\n",
    "most_test_count = hospital_tests[most_test_hospital]\n",
    "\n",
    "# Print summaries\n",
    "# print(f'The answer to the 1st question is {highest_num}')\n",
    "# print(f'The answer to the 2nd question is {stomach_ratio}')\n",
    "# print(f'The answer to the 3rd question is {dislocation_ratio}')\n",
    "# print(f'The answer to the 4th question is {age_median}')\n",
    "# print(f'The answer to the 5th question is {most_test_hospital}, {most_test_count} blood tests')"
   ]
  },
  {
   "cell_type": "markdown",
   "id": "fa09b608-b180-4bd5-8718-7c172b730bc6",
   "metadata": {},
   "source": [
    "Part 5: Visualize It"
   ]
  },
  {
   "cell_type": "code",
   "execution_count": 22,
   "id": "f130d94b-1663-4d58-a6bb-b582fb78d53d",
   "metadata": {},
   "outputs": [
    {
     "data": {
      "text/plain": [
       "<AxesSubplot:title={'center':'Most Common Age'}, ylabel='Frequency'>"
      ]
     },
     "execution_count": 22,
     "metadata": {},
     "output_type": "execute_result"
    },
    {
     "data": {
      "image/png": "[encoded data removed]",
      "text/plain": [
       "<Figure size 432x288 with 1 Axes>"
      ]
     },
     "metadata": {
      "needs_background": "light"
     },
     "output_type": "display_data"
    }
   ],
   "source": [
    "\"\"\"\n",
    "What is the most common age of a patient among all hospitals? \n",
    "Plot a histogram and choose one of the following age ranges: 0 - 15, 15 - 35, 35 - 55, 55 - 70, or 70 - 80\n",
    "\"\"\"\n",
    "df.plot(y='age', kind='hist', bins=5, title='Most Common Age')"
   ]
  },
  {
   "cell_type": "code",
   "execution_count": 23,
   "id": "017baeda-725e-4e72-8b79-ad281df8785b",
   "metadata": {},
   "outputs": [
    {
     "data": {
      "text/plain": [
       "<AxesSubplot:title={'center':'Most Common Diagnosis'}, ylabel='Diagnosis'>"
      ]
     },
     "execution_count": 23,
     "metadata": {},
     "output_type": "execute_result"
    },
    {
     "data": {
      "image/png": "[encoded data removed]",
      "text/plain": [
       "<Figure size 432x288 with 1 Axes>"
      ]
     },
     "metadata": {},
     "output_type": "display_data"
    }
   ],
   "source": [
    "\"\"\"\n",
    "What is the most common diagnosis among patients in all hospitals? Create a pie chart.\n",
    "\"\"\"\n",
    "df.groupby('diagnosis').size().plot(kind='pie', title=\"Most Common Diagnosis\", ylabel='Diagnosis')"
   ]
  },
  {
   "cell_type": "code",
   "execution_count": 27,
   "id": "2dc0e630-6d13-4e3a-9fed-4cfeb5a022d0",
   "metadata": {},
   "outputs": [
    {
     "name": "stderr",
     "output_type": "stream",
     "text": [
      "/Users/brandonlaw/opt/anaconda3/lib/python3.8/site-packages/seaborn/_decorators.py:36: FutureWarning: Pass the following variables as keyword args: x, y. From version 0.12, the only valid positional argument will be `data`, and passing other arguments without an explicit keyword will result in an error or misinterpretation.\n",
      "  warnings.warn(\n"
     ]
    },
    {
     "data": {
      "text/plain": [
       "Text(0, 0.5, 'Height')"
      ]
     },
     "execution_count": 27,
     "metadata": {},
     "output_type": "execute_result"
    },
    {
     "data": {
      "image/png": "[encoded data removed]",
      "text/plain": [
       "<Figure size 432x288 with 1 Axes>"
      ]
     },
     "metadata": {
      "needs_background": "light"
     },
     "output_type": "display_data"
    }
   ],
   "source": [
    "\"\"\"\n",
    "Build a violin plot of height distribution by hospitals. \n",
    "1. What is the main reason for the gap in values? \n",
    "    The main reason for the gap in values is because the average height of Males and Females from sports hospital is roughly 4x more than general and prenatal.\n",
    "2. Why there are two peaks, which correspond to the relatively small and big values? \n",
    "    The two different types peaks refer to the distribution of the height from each hospital. A horizontal peak (general and prenatal) means the heights are distributed very closely to the mean while a vertical peak means there is more variation in height.\n",
    "    \n",
    "\"\"\"\n",
    "fig, axes = plt.subplots()\n",
    "sns.violinplot('hospital','height', data=df, ax = axes)\n",
    "axes.set_title('Height by Hospital')\n",
    "\n",
    "axes.yaxis.grid(True)\n",
    "axes.set_xlabel('Hospital')\n",
    "axes.set_ylabel('Height')"
   ]
  },
  {
   "cell_type": "code",
   "execution_count": 7,
   "id": "74cd3ca4-a280-487e-a215-35f61d52b838",
   "metadata": {},
   "outputs": [],
   "source": [
    "# # Printing random 20 rows from combined data set\n",
    "# print(df.shape)\n",
    "# print(df.sample(n=20, random_state=30))\n",
    "\n",
    "#\n",
    "# print(f'The answer to the 1st question: 15 - 35')\n",
    "# print(f'The answer to the 2nd question: pregnancy')\n",
    "# print(f'The answer to the 3rd question: It\\'s because The main reason for the gap in values is because the average height of Males and Females from sports hospital is roughly 4x more than general and prenatal. The two different types peaks refer to the distribution of the height from each hospital. A horizontal peak (general and prenatal) means the heights are distributed very closely to the mean while a vertical peak means there is more variation in height.')"
   ]
  },
  {
   "cell_type": "code",
   "execution_count": 37,
   "id": "8cadc50e-9df3-4cc5-920a-858523ce34d1",
   "metadata": {},
   "outputs": [],
   "source": [
    "df_height = df.sort_values(by='height', ascending=False)"
   ]
  },
  {
   "cell_type": "code",
   "execution_count": 39,
   "id": "e1187cc7-873b-4ead-a0eb-7438f026455d",
   "metadata": {},
   "outputs": [
    {
     "data": {
      "text/plain": [
       "hospital  gender\n",
       "general   f         1.682466\n",
       "          m         1.771529\n",
       "prenatal  f         1.690862\n",
       "sports    f         6.116248\n",
       "          m         6.454651\n",
       "Name: height, dtype: float64"
      ]
     },
     "execution_count": 39,
     "metadata": {},
     "output_type": "execute_result"
    }
   ],
   "source": [
    "# Mean height of Males and Females from each hospital.\n",
    "df_height.groupby(['hospital', 'gender'])['height'].mean()"
   ]
  },
  {
   "cell_type": "code",
   "execution_count": null,
   "id": "e20da9a8-4f36-4b05-93f4-de0a8360b28b",
   "metadata": {},
   "outputs": [],
   "source": []
  }
 ],
 "metadata": {
  "kernelspec": {
   "display_name": "Python 3",
   "language": "python",
   "name": "python3"
  },
  "language_info": {
   "codemirror_mode": {
    "name": "ipython",
    "version": 3
   },
   "file_extension": ".py",
   "mimetype": "text/x-python",
   "name": "python",
   "nbconvert_exporter": "python",
   "pygments_lexer": "ipython3",
   "version": "3.8.8"
  }
 },
 "nbformat": 4,
 "nbformat_minor": 5
}
